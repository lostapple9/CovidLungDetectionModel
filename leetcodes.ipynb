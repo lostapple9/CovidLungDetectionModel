{
  "nbformat": 4,
  "nbformat_minor": 0,
  "metadata": {
    "colab": {
      "provenance": [],
      "authorship_tag": "ABX9TyOSm2X+bF8F/2558GJGRzmZ",
      "include_colab_link": true
    },
    "kernelspec": {
      "name": "python3",
      "display_name": "Python 3"
    },
    "language_info": {
      "name": "python"
    }
  },
  "cells": [
    {
      "cell_type": "markdown",
      "metadata": {
        "id": "view-in-github",
        "colab_type": "text"
      },
      "source": [
        "<a href=\"https://colab.research.google.com/github/lostapple9/CovidLungDetectionModel/blob/main/leetcodes.ipynb\" target=\"_parent\"><img src=\"https://colab.research.google.com/assets/colab-badge.svg\" alt=\"Open In Colab\"/></a>"
      ]
    },
    {
      "cell_type": "markdown",
      "source": [
        "all solutions from youtuber : https://www.youtube.com/@NeetCode\n",
        "\n",
        "**permium questions** from https://github.com/snehasishroy/leetcode-companywise-interview-questions\n"
      ],
      "metadata": {
        "id": "I0ROHWAdtCr1"
      }
    },
    {
      "cell_type": "code",
      "execution_count": 33,
      "metadata": {
        "id": "y5eRCw9z9Su4"
      },
      "outputs": [],
      "source": [
        "#1 Alien_dictionary\n",
        "\n",
        "from typing import List;\n",
        "class Solution:\n",
        "    def alienOrder(self, words: List[str]) -> str:\n",
        "        adj = {c: set() for w in words for c in w} # get all unique characters in key of dic from word which in words\n",
        "\n",
        "        for i in range(len(words) - 1):\n",
        "            w1, w2 = words[i], words[i+1]\n",
        "            minLen = min(len(w1), len(w2))\n",
        "            if len(w1) > len(w2) and w1[:minLen] == w2[:minLen]:\n",
        "                return ''\n",
        "            \n",
        "            for j in range(minLen):\n",
        "                if w1[j] != w2[j]:\n",
        "                    adj[w1[j]].add(w2[j])\n",
        "                    break\n",
        "        print(adj)\n",
        "            \n",
        "        visit = {}\n",
        "        res = []\n",
        "\n",
        "        def dfs(c):\n",
        "            if c in visit:\n",
        "                return visit[c]\n",
        "\n",
        "            visit[c] = True\n",
        "            for nei in adj[c]:\n",
        "                if dfs(nei):\n",
        "                    return True\n",
        "\n",
        "            visit[c] = False\n",
        "            res.append(c)\n",
        "        \n",
        "        for c in adj:\n",
        "            if dfs(c):\n",
        "                return \"\"\n",
        "        \n",
        "        res.reverse()\n",
        "        return ''.join(res)"
      ]
    },
    {
      "cell_type": "code",
      "source": [
        "words = ['wrt', 'wrf', 'er', 'ett','rftt']\n",
        "y = Solution()\n",
        "z = y.alienOrder(words)\n",
        "print(z)"
      ],
      "metadata": {
        "colab": {
          "base_uri": "https://localhost:8080/"
        },
        "id": "BtG8qUljDi0T",
        "outputId": "2e990f11-422d-4495-89d8-007bddb7cf24"
      },
      "execution_count": 34,
      "outputs": [
        {
          "output_type": "stream",
          "name": "stdout",
          "text": [
            "{'w': {'e'}, 'r': {'t'}, 't': {'f'}, 'f': set(), 'e': {'r'}}\n",
            "wertf\n"
          ]
        }
      ]
    },
    {
      "cell_type": "code",
      "source": [
        "#2 two sum\n",
        "class Solution:\n",
        "    def twoSum(self, nums: List[int], target: int) -> List[int]:\n",
        "        prevMap = {}\n",
        "\n",
        "        for i, n in enumerate(nums):\n",
        "            diff = target - n\n",
        "            if diff in prevMap:\n",
        "                return [prevMap[diff], i]\n",
        "            prevMap[n] = i\n",
        "        \n",
        "        return []"
      ],
      "metadata": {
        "id": "AezBfop7EN8A"
      },
      "execution_count": 37,
      "outputs": []
    },
    {
      "cell_type": "code",
      "source": [
        "nums = [2, 7, 11, 15]\n",
        "target = 26\n",
        "\n",
        "y = Solution()\n",
        "z = y.twoSum(nums, target)\n",
        "print(z)"
      ],
      "metadata": {
        "colab": {
          "base_uri": "https://localhost:8080/"
        },
        "id": "eIhd-aEtGxiI",
        "outputId": "448fe9d3-e89e-429e-f59b-7a50cf7169cb"
      },
      "execution_count": 38,
      "outputs": [
        {
          "output_type": "stream",
          "name": "stdout",
          "text": [
            "[2, 3]\n"
          ]
        }
      ]
    },
    {
      "cell_type": "code",
      "source": [
        "#3 two sum II\n",
        "\n",
        "class Solution:\n",
        "    def twoSum(self, numbers: List[int], target: int) -> List[int]:\n",
        "        l, r = 0, len(numbers) - 1\n",
        "\n",
        "        while l < r:\n",
        "            curSum = numbers[l] + numbers[r]\n",
        "            print(curSum, l, r)\n",
        "\n",
        "            if curSum > target:\n",
        "                r -= 1\n",
        "            elif curSum < target:\n",
        "                l += 1\n",
        "            else:\n",
        "                return [l+1, r+1]\n",
        "        \n",
        "        return []"
      ],
      "metadata": {
        "id": "N9Al-B4yHRAU"
      },
      "execution_count": 5,
      "outputs": []
    },
    {
      "cell_type": "code",
      "source": [
        "numbers = [2, 7, 11, 15]\n",
        "target = 9\n",
        "\n",
        "y = Solution()\n",
        "z = y.twoSum(numbers, target)\n",
        "print(z)"
      ],
      "metadata": {
        "colab": {
          "base_uri": "https://localhost:8080/"
        },
        "id": "ATrgq4O_Y1C9",
        "outputId": "ebc92382-e745-4f08-e25e-fc3b43ece5f0"
      },
      "execution_count": 6,
      "outputs": [
        {
          "output_type": "stream",
          "name": "stdout",
          "text": [
            "17 0 3\n",
            "13 0 2\n",
            "9 0 1\n",
            "[1, 2]\n"
          ]
        }
      ]
    },
    {
      "cell_type": "code",
      "source": [
        "# 4 meeting room\n",
        "\n",
        "class Interval(object):\n",
        "    def __init__(self, start, end):\n",
        "        self.start = start\n",
        "        self.end = end"
      ],
      "metadata": {
        "id": "-zF4CFmuZDUn"
      },
      "execution_count": 39,
      "outputs": []
    },
    {
      "cell_type": "code",
      "source": [
        "class Solution:\n",
        "    def canAttendMeetings(self, intervals):\n",
        "        intervals.sort(key = lambda i : i.start)\n",
        "        for i in range(1, len(intervals)):\n",
        "            i1 = intervals[i-1]\n",
        "            i2 = intervals[i]\n",
        "\n",
        "            if i1.end > i2.start:\n",
        "                return False\n",
        "        \n",
        "        return True"
      ],
      "metadata": {
        "id": "G5l5EypLmwBT"
      },
      "execution_count": 40,
      "outputs": []
    },
    {
      "cell_type": "code",
      "source": [
        "meetTime = [Interval(0, 30), Interval(5, 10), Interval(15, 20)]\n",
        "\n",
        "z = Solution().canAttendMeetings(meetTime)\n",
        "print(z)"
      ],
      "metadata": {
        "colab": {
          "base_uri": "https://localhost:8080/"
        },
        "id": "-0DP2il5oN9b",
        "outputId": "9ded6874-7028-48be-dccc-8e7b81f21360"
      },
      "execution_count": 41,
      "outputs": [
        {
          "output_type": "stream",
          "name": "stdout",
          "text": [
            "False\n"
          ]
        }
      ]
    },
    {
      "cell_type": "code",
      "source": [],
      "metadata": {
        "id": "cLKAj0BgpAR7"
      },
      "execution_count": null,
      "outputs": []
    }
  ]
}