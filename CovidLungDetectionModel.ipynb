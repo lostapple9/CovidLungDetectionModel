{
  "nbformat": 4,
  "nbformat_minor": 0,
  "metadata": {
    "colab": {
      "name": "CovidLungDetectionModel.ipynb",
      "provenance": [],
      "collapsed_sections": [],
      "include_colab_link": true
    },
    "kernelspec": {
      "display_name": "Python 3",
      "name": "python3"
    },
    "language_info": {
      "name": "python"
    }
  },
  "cells": [
    {
      "cell_type": "markdown",
      "metadata": {
        "id": "view-in-github",
        "colab_type": "text"
      },
      "source": [
        "<a href=\"https://colab.research.google.com/github/lostapple9/CovidLungDetectionModel/blob/lostapple9-patch-1/CovidLungDetectionModel.ipynb\" target=\"_parent\"><img src=\"https://colab.research.google.com/assets/colab-badge.svg\" alt=\"Open In Colab\"/></a>"
      ]
    },
    {
      "cell_type": "code",
      "metadata": {
        "id": "LetKb9Imy_Ab",
        "colab": {
          "base_uri": "https://localhost:8080/",
          "height": 248
        },
        "outputId": "cac1600a-5622-4eb5-f389-363b27918a47"
      },
      "source": [
        "import os\n",
        "import gc\n",
        "import random\n",
        "import matplotlib.pyplot as plt\n",
        "import numpy as np\n",
        "from cv2 import resize, imread, IMREAD_COLOR, IMREAD_GRAYSCALE, INTER_CUBIC\n",
        "from keras.utils import to_categorical\n",
        "from keras.models import Sequential\n",
        "from keras.layers import Dense, Conv2D, MaxPooling2D, Dropout, Flatten\n",
        "\n",
        "covid_set = ['/content/drive/MyDrive/covid19_lung_data/{}'.format(i) for i in os.listdir('/content/drive/MyDrive/covid19_lung_data')]\n",
        "normal_set = ['/content/drive/MyDrive/normal_lung_data/{}'.format(i) for i in os.listdir('/content/drive/MyDrive/normal_lung_data')]\n"
      ],
      "execution_count": null,
      "outputs": [
        {
          "output_type": "error",
          "ename": "FileNotFoundError",
          "evalue": "ignored",
          "traceback": [
            "\u001b[0;31m---------------------------------------------------------------------------\u001b[0m",
            "\u001b[0;31mFileNotFoundError\u001b[0m                         Traceback (most recent call last)",
            "\u001b[0;32m<ipython-input-1-b54b340bf789>\u001b[0m in \u001b[0;36m<module>\u001b[0;34m()\u001b[0m\n\u001b[1;32m      9\u001b[0m \u001b[0;32mfrom\u001b[0m \u001b[0mkeras\u001b[0m\u001b[0;34m.\u001b[0m\u001b[0mlayers\u001b[0m \u001b[0;32mimport\u001b[0m \u001b[0mDense\u001b[0m\u001b[0;34m,\u001b[0m \u001b[0mConv2D\u001b[0m\u001b[0;34m,\u001b[0m \u001b[0mMaxPooling2D\u001b[0m\u001b[0;34m,\u001b[0m \u001b[0mDropout\u001b[0m\u001b[0;34m,\u001b[0m \u001b[0mFlatten\u001b[0m\u001b[0;34m\u001b[0m\u001b[0;34m\u001b[0m\u001b[0m\n\u001b[1;32m     10\u001b[0m \u001b[0;34m\u001b[0m\u001b[0m\n\u001b[0;32m---> 11\u001b[0;31m \u001b[0mcovid_set\u001b[0m \u001b[0;34m=\u001b[0m \u001b[0;34m[\u001b[0m\u001b[0;34m'/content/drive/MyDrive/covid19_lung_data/{}'\u001b[0m\u001b[0;34m.\u001b[0m\u001b[0mformat\u001b[0m\u001b[0;34m(\u001b[0m\u001b[0mi\u001b[0m\u001b[0;34m)\u001b[0m \u001b[0;32mfor\u001b[0m \u001b[0mi\u001b[0m \u001b[0;32min\u001b[0m \u001b[0mos\u001b[0m\u001b[0;34m.\u001b[0m\u001b[0mlistdir\u001b[0m\u001b[0;34m(\u001b[0m\u001b[0;34m'/content/drive/MyDrive/covid19_lung_data'\u001b[0m\u001b[0;34m)\u001b[0m\u001b[0;34m]\u001b[0m\u001b[0;34m\u001b[0m\u001b[0;34m\u001b[0m\u001b[0m\n\u001b[0m\u001b[1;32m     12\u001b[0m \u001b[0mnormal_set\u001b[0m \u001b[0;34m=\u001b[0m \u001b[0;34m[\u001b[0m\u001b[0;34m'/content/drive/MyDrive/normal_lung_data/{}'\u001b[0m\u001b[0;34m.\u001b[0m\u001b[0mformat\u001b[0m\u001b[0;34m(\u001b[0m\u001b[0mi\u001b[0m\u001b[0;34m)\u001b[0m \u001b[0;32mfor\u001b[0m \u001b[0mi\u001b[0m \u001b[0;32min\u001b[0m \u001b[0mos\u001b[0m\u001b[0;34m.\u001b[0m\u001b[0mlistdir\u001b[0m\u001b[0;34m(\u001b[0m\u001b[0;34m'/content/drive/MyDrive/normal_lung_data'\u001b[0m\u001b[0;34m)\u001b[0m\u001b[0;34m]\u001b[0m\u001b[0;34m\u001b[0m\u001b[0;34m\u001b[0m\u001b[0m\n",
            "\u001b[0;31mFileNotFoundError\u001b[0m: [Errno 2] No such file or directory: '/content/drive/MyDrive/covid19_lung_data'"
          ]
        }
      ]
    },
    {
      "cell_type": "code",
      "metadata": {
        "id": "QnRuD67f3uwz"
      },
      "source": [
        "from google.colab import drive\n",
        "drive.mount('/content/drive')"
      ],
      "execution_count": null,
      "outputs": []
    },
    {
      "cell_type": "code",
      "metadata": {
        "id": "e-IuQPAz9H-n"
      },
      "source": [
        "print(normal_set)\n",
        "print(covid_set)"
      ],
      "execution_count": null,
      "outputs": []
    },
    {
      "cell_type": "code",
      "metadata": {
        "id": "fpUSaZj5A-zl"
      },
      "source": [
        "total = normal_set + covid_set\n",
        "random.shuffle(total)"
      ],
      "execution_count": null,
      "outputs": []
    },
    {
      "cell_type": "code",
      "metadata": {
        "id": "Kgssm7e-Ck0U"
      },
      "source": [
        "split = 0.8\n",
        "slice_reserve = 10;\n",
        "slice_total = len(normal_set)\n",
        "slice_list_max = slice_total - slice_reserve\n",
        "slice_list = int(slice_list_max*split)\n",
        "\n",
        "train_set = total[:slice_list]\n",
        "test_set = total[slice_list: slice_list_max]\n",
        "reserve_set = total[slice_list_max: slice_total]\n"
      ],
      "execution_count": null,
      "outputs": []
    },
    {
      "cell_type": "code",
      "metadata": {
        "id": "UEEEo2CXDdlt"
      },
      "source": [
        "\n",
        "del covid_set,normal_set\n",
        "gc.collect()"
      ],
      "execution_count": null,
      "outputs": []
    },
    {
      "cell_type": "code",
      "metadata": {
        "id": "XEJsXXtqEits"
      },
      "source": [
        "width = 250\n",
        "height = 250\n",
        "\n"
      ],
      "execution_count": null,
      "outputs": []
    },
    {
      "cell_type": "code",
      "metadata": {
        "id": "RFHzueCGEsJz"
      },
      "source": [
        "X_train = []\n",
        "X_test = []\n",
        "X_reserve = []\n",
        "\n",
        "y_train = []\n",
        "y_test = []\n",
        "y_reserve = []\n"
      ],
      "execution_count": null,
      "outputs": []
    },
    {
      "cell_type": "code",
      "metadata": {
        "id": "pdSmeDi1R4tJ"
      },
      "source": [
        "# a 0 label indicates positive covid pneumonia\n",
        "# a 1 label indicates no pneumonia\n",
        "def preprocess_image_set(data_set):\n",
        "  X_set = []\n",
        "  y_set = []\n",
        "  for image in data_set:\n",
        "    try:\n",
        "      X_set.append(resize(imread(image), (width, height), interpolation = INTER_CUBIC))\n",
        "      if 'COVID-' in image:\n",
        "        y_set.append(0)\n",
        "      else:\n",
        "        y_set.append(1)\n",
        "    except Exception:\n",
        "      print('failed to format: ', image)\n",
        "  return X_set, y_set"
      ],
      "execution_count": null,
      "outputs": []
    },
    {
      "cell_type": "code",
      "metadata": {
        "id": "8Okn7Dk7ajW9"
      },
      "source": [
        "def show_images(image_set, label_set):\n",
        "  plt.figure(figsize = (10,10))\n",
        "  for i in range(9):\n",
        "    ax = plt.subplot(3,3, i + 1)\n",
        "    plt.imshow(image_set[i])\n",
        "    plt.title(label_set[i])\n",
        "    plt.axis(\"off\")\n"
      ],
      "execution_count": null,
      "outputs": []
    },
    {
      "cell_type": "code",
      "metadata": {
        "id": "myFmi9kmS4VH"
      },
      "source": [
        "X_train, y_train = preprocess_image_set(train_set)"
      ],
      "execution_count": null,
      "outputs": []
    },
    {
      "cell_type": "code",
      "metadata": {
        "id": "6S80jdgC_fvV"
      },
      "source": [
        "# show the first 10 images from training set\n",
        "# 1 = no covid, 0 = has covid\n",
        "show_images(X_train, y_train)"
      ],
      "execution_count": null,
      "outputs": []
    },
    {
      "cell_type": "code",
      "metadata": {
        "id": "VnVm1KJKVMAz"
      },
      "source": [
        "X_test, y_test = preprocess_image_set(test_set)"
      ],
      "execution_count": null,
      "outputs": []
    },
    {
      "cell_type": "code",
      "metadata": {
        "id": "uwnT8FMPQLAf"
      },
      "source": [
        "X_reserve, y_reserve = preprocess_image_set(reserve_set)"
      ],
      "execution_count": null,
      "outputs": []
    },
    {
      "cell_type": "code",
      "metadata": {
        "id": "2uHP3HHxYY_p"
      },
      "source": [
        "del train_set, test_set, reserve_set\n",
        "gc.collect()"
      ],
      "execution_count": null,
      "outputs": []
    },
    {
      "cell_type": "code",
      "metadata": {
        "id": "QDhYAKgDYw8r"
      },
      "source": [
        "# translate lists into numpy arrays\n",
        "X_train =  np.array(X_train)\n",
        "X_test = np.array(X_test)\n",
        "X_reserve =  np.array(X_reserve)\n",
        "\n",
        "y_train = np.array(y_train)\n",
        "y_test = np.array(y_test)\n"
      ],
      "execution_count": null,
      "outputs": []
    },
    {
      "cell_type": "code",
      "metadata": {
        "id": "zS2hKeHLZlmq"
      },
      "source": [
        "\n",
        "model = Sequential()\n",
        "model.add(Conv2D(32, kernel_size = 3, activation = 'relu', input_shape = (width, height,3)))\n",
        "model.add(MaxPooling2D(2,2))\n",
        "model.add(Conv2D(64, kernel_size = 3, activation = 'relu'))\n",
        "model.add(MaxPooling2D(2,2))\n",
        "model.add(Conv2D(128, kernel_size = 3, activation = 'relu'))\n",
        "model.add(MaxPooling2D(2,2))\n",
        "model.add(Conv2D(256, kernel_size = 3, activation = 'relu'))\n",
        "model.add(Flatten())\n",
        "#model.add(Dropout(0.5))\n",
        "model.add(Dense(600, activation = 'relu'))\n",
        "model.add(Dense(200, activation = 'relu'))\n",
        "model.add(Dense(1, activation = 'sigmoid'))"
      ],
      "execution_count": null,
      "outputs": []
    },
    {
      "cell_type": "code",
      "metadata": {
        "id": "Mh6ZhYDzbeQB"
      },
      "source": [
        "print(model.summary())"
      ],
      "execution_count": null,
      "outputs": []
    },
    {
      "cell_type": "code",
      "metadata": {
        "id": "rOK06Bp7chFh"
      },
      "source": [
        "model.compile(optimizer='adam', loss = 'binary_crossentropy', metrics = ['accuracy'])\n"
      ],
      "execution_count": null,
      "outputs": []
    },
    {
      "cell_type": "code",
      "metadata": {
        "id": "uH7wOwYhPyBm"
      },
      "source": [
        "history = model.fit(X_train,y_train, validation_data = (X_test, y_test), epochs = 15)"
      ],
      "execution_count": null,
      "outputs": []
    },
    {
      "cell_type": "code",
      "metadata": {
        "id": "Rht3msqvedRQ"
      },
      "source": [
        "history.history['accuracy']"
      ],
      "execution_count": null,
      "outputs": []
    },
    {
      "cell_type": "code",
      "metadata": {
        "id": "Vn71gGGwLgoC"
      },
      "source": [
        "# make label predictions on unseen data\n",
        "y_predict = model.predict(X_reserve[:slice_reserve])\n",
        "y_pred = (y_predict > 0.5)"
      ],
      "execution_count": null,
      "outputs": []
    },
    {
      "cell_type": "code",
      "metadata": {
        "id": "-jFu-nqKik2S"
      },
      "source": [
        "y_pred = y_pred.tolist()"
      ],
      "execution_count": null,
      "outputs": []
    },
    {
      "cell_type": "code",
      "metadata": {
        "id": "H63wgRLXdk_k"
      },
      "source": [
        "y_predict = y_predict.tolist()\n",
        "y_predict"
      ],
      "execution_count": null,
      "outputs": []
    },
    {
      "cell_type": "code",
      "metadata": {
        "id": "vA3gC6xULRMX"
      },
      "source": [
        "y_reserve"
      ],
      "execution_count": null,
      "outputs": []
    },
    {
      "cell_type": "code",
      "metadata": {
        "id": "TO9KGbSAg0y0"
      },
      "source": [
        "for i in range(len(y_predict)):\n",
        "  print(\"predicted result: %0.5f percent probability does not have covid\" % (y_predict[i][0]*100))\n",
        "  if(y_reserve[i] == 0):\n",
        "    print(\"Actual result: has covid\")\n",
        "  else:\n",
        "    print(\"Actual result: does not have covid\")\n",
        "  print()\n"
      ],
      "execution_count": null,
      "outputs": []
    },
    {
      "cell_type": "code",
      "metadata": {
        "id": "9w0qLBoUX551"
      },
      "source": [
        "# show the images from reserve set\n",
        "# 1 = no covid, 0 = covid\n",
        "\n",
        "show_images(X_reserve, y_reserve)"
      ],
      "execution_count": null,
      "outputs": []
    },
    {
      "cell_type": "markdown",
      "metadata": {
        "id": "fpIZb5VbmHzI"
      },
      "source": [
        "\n",
        "![image.png](data:image/png;base64,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)\n"
      ]
    },
    {
      "cell_type": "code",
      "metadata": {
        "id": "o3ViLkygdd1u"
      },
      "source": [
        "from sklearn.metrics import confusion_matrix\n",
        "\n",
        "#event = has covid\n",
        "#no-event = does not have covid\n",
        "model_metric = confusion_matrix(y_reserve, y_pred)"
      ],
      "execution_count": null,
      "outputs": []
    },
    {
      "cell_type": "code",
      "metadata": {
        "id": "nz1_YAGKpOBL"
      },
      "source": [
        "accuracy = (model_metric[0][0] + model_metric[1][1])/ (sum(map(sum, model_metric)))\n",
        "accuracy"
      ],
      "execution_count": null,
      "outputs": []
    }
  ]
}